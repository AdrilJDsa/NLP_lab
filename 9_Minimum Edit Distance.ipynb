{
 "cells": [
  {
   "cell_type": "markdown",
   "id": "5531cd01",
   "metadata": {},
   "source": [
    "# Using User Defined Function"
   ]
  },
  {
   "cell_type": "code",
   "execution_count": 3,
   "id": "0e020f53",
   "metadata": {},
   "outputs": [],
   "source": [
    "def minimum_edit_distance(str1, str2, m, n):\n",
    "    string_matrix = [[0 for i in range(n+1)] for i in range(m+1)]\n",
    "    \n",
    "    for i in range(m+1):\n",
    "        for j in range(n+1):\n",
    "            \n",
    "            if i == 0:\n",
    "                string_matrix[i][j] = j\n",
    "            elif j == 0:\n",
    "                string_matrix[i][j] = i\n",
    "            elif str1[i-1] == str2[j-1]:\n",
    "                string_matrix[i][j] = string_matrix[i-1][j-1]\n",
    "            else:\n",
    "                string_matrix[i][j] = 1 + min(string_matrix[i][j-1],\n",
    "                                             string_matrix[i-1][j],\n",
    "                                             string_matrix[i-1][j-1])\n",
    "    return string_matrix[m][n]"
   ]
  },
  {
   "cell_type": "code",
   "execution_count": 4,
   "id": "f15d5109",
   "metadata": {},
   "outputs": [
    {
     "name": "stdout",
     "output_type": "stream",
     "text": [
      "No. of operations required:  1\n",
      "No. of operations required:  3\n"
     ]
    }
   ],
   "source": [
    "if __name__ == \"__main__\":\n",
    "    str1 = 'Rats'\n",
    "    str2 = 'Cats'\n",
    "    \n",
    "    print('No. of operations required: ', minimum_edit_distance(str1, str2, len(str1), len(str2)))\n",
    "    \n",
    "    str3 = 'Saturday'\n",
    "    str4 = 'Sunday'\n",
    "    \n",
    "    print('No. of operations required: ', minimum_edit_distance(str3, str4, len(str3), len(str4)))"
   ]
  },
  {
   "cell_type": "markdown",
   "id": "5650213a",
   "metadata": {},
   "source": [
    "## Using Built In Functions"
   ]
  },
  {
   "cell_type": "code",
   "execution_count": 5,
   "id": "9287cb8a",
   "metadata": {},
   "outputs": [
    {
     "name": "stdout",
     "output_type": "stream",
     "text": [
      "Defaulting to user installation because normal site-packages is not writeable\n",
      "Collecting editdistance\n",
      "  Downloading editdistance-0.8.1-cp39-cp39-manylinux_2_17_x86_64.manylinux2014_x86_64.whl (401 kB)\n",
      "\u001b[K     |████████████████████████████████| 401 kB 323 kB/s eta 0:00:01\n",
      "\u001b[?25hInstalling collected packages: editdistance\n",
      "Successfully installed editdistance-0.8.1\n",
      "Note: you may need to restart the kernel to use updated packages.\n"
     ]
    }
   ],
   "source": [
    "pip install editdistance"
   ]
  },
  {
   "cell_type": "code",
   "execution_count": 6,
   "id": "a4bbc084",
   "metadata": {},
   "outputs": [
    {
     "data": {
      "text/plain": [
       "3"
      ]
     },
     "execution_count": 6,
     "metadata": {},
     "output_type": "execute_result"
    }
   ],
   "source": [
    "import editdistance\n",
    "editdistance.eval('Saturday', 'Sunday')"
   ]
  },
  {
   "cell_type": "code",
   "execution_count": null,
   "id": "f2c8ccaa",
   "metadata": {},
   "outputs": [],
   "source": []
  }
 ],
 "metadata": {
  "kernelspec": {
   "display_name": "Python 3 (ipykernel)",
   "language": "python",
   "name": "python3"
  },
  "language_info": {
   "codemirror_mode": {
    "name": "ipython",
    "version": 3
   },
   "file_extension": ".py",
   "mimetype": "text/x-python",
   "name": "python",
   "nbconvert_exporter": "python",
   "pygments_lexer": "ipython3",
   "version": "3.9.12"
  }
 },
 "nbformat": 4,
 "nbformat_minor": 5
}
